{
  "cells": [
    {
      "cell_type": "markdown",
      "metadata": {
        "id": "view-in-github",
        "colab_type": "text"
      },
      "source": [
        "<a href=\"https://colab.research.google.com/github/0sparsh2/NLP-MU-BE-Assignments/blob/main/NLP_Experiments.ipynb\" target=\"_parent\"><img src=\"https://colab.research.google.com/assets/colab-badge.svg\" alt=\"Open In Colab\"/></a>"
      ]
    },
    {
      "cell_type": "markdown",
      "metadata": {
        "id": "sPYKPD1wzOAQ"
      },
      "source": [
        "#Experiment 1"
      ]
    },
    {
      "cell_type": "markdown",
      "metadata": {
        "id": "z6wGfz2U1TB0"
      },
      "source": [
        "###Remove HTML tags "
      ]
    },
    {
      "cell_type": "code",
      "execution_count": null,
      "metadata": {
        "colab": {
          "background_save": true,
          "base_uri": "https://localhost:8080/"
        },
        "id": "JlmtVHpfwxuq",
        "outputId": "d342146a-1e37-48ef-9496-f480327093aa"
      },
      "outputs": [
        {
          "name": "stdout",
          "output_type": "stream",
          "text": [
            "lmao\n"
          ]
        }
      ],
      "source": [
        "import re\n",
        "s1 = input(\"Enter Html line: \")\n",
        "clean = re.compile(\"<.*?>\")\n",
        "new_string = re.sub(clean,\"\",s1)\n",
        "print(new_string)"
      ]
    },
    {
      "cell_type": "markdown",
      "metadata": {
        "id": "_NNC-LL11YSO"
      },
      "source": [
        "###Remove extra whitespaces  "
      ]
    },
    {
      "cell_type": "code",
      "execution_count": null,
      "metadata": {
        "id": "H5VGUxIUzt_m"
      },
      "outputs": [],
      "source": [
        "s2 = input(\"enter string\")\n",
        "def whitespace(s2):\n",
        "  s2 = \" \".join([word for word in s2.split() if word!=\" \"])\n",
        "\n",
        "  return s2\n",
        "print(whitespace(s2))"
      ]
    },
    {
      "cell_type": "markdown",
      "metadata": {
        "id": "_cARNS4p1bUh"
      },
      "source": [
        "###Sentence boundary detection "
      ]
    },
    {
      "cell_type": "markdown",
      "metadata": {
        "id": "nhfPRkyEBX9Q"
      },
      "source": [
        "####installation"
      ]
    },
    {
      "cell_type": "code",
      "execution_count": null,
      "metadata": {
        "colab": {
          "base_uri": "https://localhost:8080/"
        },
        "id": "UalUXfUo2FEb",
        "outputId": "722c833e-6bda-4d7d-875b-810fc1577ba8"
      },
      "outputs": [
        {
          "name": "stdout",
          "output_type": "stream",
          "text": [
            "Requirement already satisfied: spacy in /usr/local/lib/python3.7/dist-packages (2.2.4)\n",
            "Requirement already satisfied: srsly<1.1.0,>=1.0.2 in /usr/local/lib/python3.7/dist-packages (from spacy) (1.0.5)\n",
            "Requirement already satisfied: plac<1.2.0,>=0.9.6 in /usr/local/lib/python3.7/dist-packages (from spacy) (1.1.3)\n",
            "Requirement already satisfied: requests<3.0.0,>=2.13.0 in /usr/local/lib/python3.7/dist-packages (from spacy) (2.23.0)\n",
            "Requirement already satisfied: blis<0.5.0,>=0.4.0 in /usr/local/lib/python3.7/dist-packages (from spacy) (0.4.1)\n",
            "Requirement already satisfied: setuptools in /usr/local/lib/python3.7/dist-packages (from spacy) (57.4.0)\n",
            "Requirement already satisfied: tqdm<5.0.0,>=4.38.0 in /usr/local/lib/python3.7/dist-packages (from spacy) (4.62.3)\n",
            "Requirement already satisfied: wasabi<1.1.0,>=0.4.0 in /usr/local/lib/python3.7/dist-packages (from spacy) (0.9.0)\n",
            "Requirement already satisfied: thinc==7.4.0 in /usr/local/lib/python3.7/dist-packages (from spacy) (7.4.0)\n",
            "Requirement already satisfied: numpy>=1.15.0 in /usr/local/lib/python3.7/dist-packages (from spacy) (1.19.5)\n",
            "Requirement already satisfied: murmurhash<1.1.0,>=0.28.0 in /usr/local/lib/python3.7/dist-packages (from spacy) (1.0.6)\n",
            "Requirement already satisfied: catalogue<1.1.0,>=0.0.7 in /usr/local/lib/python3.7/dist-packages (from spacy) (1.0.0)\n",
            "Requirement already satisfied: cymem<2.1.0,>=2.0.2 in /usr/local/lib/python3.7/dist-packages (from spacy) (2.0.6)\n",
            "Requirement already satisfied: preshed<3.1.0,>=3.0.2 in /usr/local/lib/python3.7/dist-packages (from spacy) (3.0.6)\n",
            "Requirement already satisfied: importlib-metadata>=0.20 in /usr/local/lib/python3.7/dist-packages (from catalogue<1.1.0,>=0.0.7->spacy) (4.10.1)\n",
            "Requirement already satisfied: typing-extensions>=3.6.4 in /usr/local/lib/python3.7/dist-packages (from importlib-metadata>=0.20->catalogue<1.1.0,>=0.0.7->spacy) (3.10.0.2)\n",
            "Requirement already satisfied: zipp>=0.5 in /usr/local/lib/python3.7/dist-packages (from importlib-metadata>=0.20->catalogue<1.1.0,>=0.0.7->spacy) (3.7.0)\n",
            "Requirement already satisfied: certifi>=2017.4.17 in /usr/local/lib/python3.7/dist-packages (from requests<3.0.0,>=2.13.0->spacy) (2021.10.8)\n",
            "Requirement already satisfied: chardet<4,>=3.0.2 in /usr/local/lib/python3.7/dist-packages (from requests<3.0.0,>=2.13.0->spacy) (3.0.4)\n",
            "Requirement already satisfied: urllib3!=1.25.0,!=1.25.1,<1.26,>=1.21.1 in /usr/local/lib/python3.7/dist-packages (from requests<3.0.0,>=2.13.0->spacy) (1.24.3)\n",
            "Requirement already satisfied: idna<3,>=2.5 in /usr/local/lib/python3.7/dist-packages (from requests<3.0.0,>=2.13.0->spacy) (2.10)\n"
          ]
        }
      ],
      "source": [
        "pip install spacy"
      ]
    },
    {
      "cell_type": "code",
      "execution_count": null,
      "metadata": {
        "colab": {
          "base_uri": "https://localhost:8080/"
        },
        "id": "ohBS7flV24BH",
        "outputId": "f9132200-f96e-48f8-997b-23677b6e4dd1"
      },
      "outputs": [
        {
          "name": "stdout",
          "output_type": "stream",
          "text": [
            "Collecting en_core_web_lg==2.2.5\n",
            "  Downloading https://github.com/explosion/spacy-models/releases/download/en_core_web_lg-2.2.5/en_core_web_lg-2.2.5.tar.gz (827.9 MB)\n",
            "\u001b[K     |████████████████████████████████| 827.9 MB 2.1 MB/s \n",
            "\u001b[?25hRequirement already satisfied: spacy>=2.2.2 in /usr/local/lib/python3.7/dist-packages (from en_core_web_lg==2.2.5) (2.2.4)\n",
            "Requirement already satisfied: wasabi<1.1.0,>=0.4.0 in /usr/local/lib/python3.7/dist-packages (from spacy>=2.2.2->en_core_web_lg==2.2.5) (0.9.0)\n",
            "Requirement already satisfied: blis<0.5.0,>=0.4.0 in /usr/local/lib/python3.7/dist-packages (from spacy>=2.2.2->en_core_web_lg==2.2.5) (0.4.1)\n",
            "Requirement already satisfied: plac<1.2.0,>=0.9.6 in /usr/local/lib/python3.7/dist-packages (from spacy>=2.2.2->en_core_web_lg==2.2.5) (1.1.3)\n",
            "Requirement already satisfied: thinc==7.4.0 in /usr/local/lib/python3.7/dist-packages (from spacy>=2.2.2->en_core_web_lg==2.2.5) (7.4.0)\n",
            "Requirement already satisfied: preshed<3.1.0,>=3.0.2 in /usr/local/lib/python3.7/dist-packages (from spacy>=2.2.2->en_core_web_lg==2.2.5) (3.0.6)\n",
            "Requirement already satisfied: numpy>=1.15.0 in /usr/local/lib/python3.7/dist-packages (from spacy>=2.2.2->en_core_web_lg==2.2.5) (1.19.5)\n",
            "Requirement already satisfied: tqdm<5.0.0,>=4.38.0 in /usr/local/lib/python3.7/dist-packages (from spacy>=2.2.2->en_core_web_lg==2.2.5) (4.62.3)\n",
            "Requirement already satisfied: setuptools in /usr/local/lib/python3.7/dist-packages (from spacy>=2.2.2->en_core_web_lg==2.2.5) (57.4.0)\n",
            "Requirement already satisfied: murmurhash<1.1.0,>=0.28.0 in /usr/local/lib/python3.7/dist-packages (from spacy>=2.2.2->en_core_web_lg==2.2.5) (1.0.6)\n",
            "Requirement already satisfied: requests<3.0.0,>=2.13.0 in /usr/local/lib/python3.7/dist-packages (from spacy>=2.2.2->en_core_web_lg==2.2.5) (2.23.0)\n",
            "Requirement already satisfied: cymem<2.1.0,>=2.0.2 in /usr/local/lib/python3.7/dist-packages (from spacy>=2.2.2->en_core_web_lg==2.2.5) (2.0.6)\n",
            "Requirement already satisfied: srsly<1.1.0,>=1.0.2 in /usr/local/lib/python3.7/dist-packages (from spacy>=2.2.2->en_core_web_lg==2.2.5) (1.0.5)\n",
            "Requirement already satisfied: catalogue<1.1.0,>=0.0.7 in /usr/local/lib/python3.7/dist-packages (from spacy>=2.2.2->en_core_web_lg==2.2.5) (1.0.0)\n",
            "Requirement already satisfied: importlib-metadata>=0.20 in /usr/local/lib/python3.7/dist-packages (from catalogue<1.1.0,>=0.0.7->spacy>=2.2.2->en_core_web_lg==2.2.5) (4.10.1)\n",
            "Requirement already satisfied: typing-extensions>=3.6.4 in /usr/local/lib/python3.7/dist-packages (from importlib-metadata>=0.20->catalogue<1.1.0,>=0.0.7->spacy>=2.2.2->en_core_web_lg==2.2.5) (3.10.0.2)\n",
            "Requirement already satisfied: zipp>=0.5 in /usr/local/lib/python3.7/dist-packages (from importlib-metadata>=0.20->catalogue<1.1.0,>=0.0.7->spacy>=2.2.2->en_core_web_lg==2.2.5) (3.7.0)\n",
            "Requirement already satisfied: urllib3!=1.25.0,!=1.25.1,<1.26,>=1.21.1 in /usr/local/lib/python3.7/dist-packages (from requests<3.0.0,>=2.13.0->spacy>=2.2.2->en_core_web_lg==2.2.5) (1.24.3)\n",
            "Requirement already satisfied: certifi>=2017.4.17 in /usr/local/lib/python3.7/dist-packages (from requests<3.0.0,>=2.13.0->spacy>=2.2.2->en_core_web_lg==2.2.5) (2021.10.8)\n",
            "Requirement already satisfied: chardet<4,>=3.0.2 in /usr/local/lib/python3.7/dist-packages (from requests<3.0.0,>=2.13.0->spacy>=2.2.2->en_core_web_lg==2.2.5) (3.0.4)\n",
            "Requirement already satisfied: idna<3,>=2.5 in /usr/local/lib/python3.7/dist-packages (from requests<3.0.0,>=2.13.0->spacy>=2.2.2->en_core_web_lg==2.2.5) (2.10)\n",
            "Building wheels for collected packages: en-core-web-lg\n",
            "  Building wheel for en-core-web-lg (setup.py) ... \u001b[?25l\u001b[?25hdone\n",
            "  Created wheel for en-core-web-lg: filename=en_core_web_lg-2.2.5-py3-none-any.whl size=829180942 sha256=bbc45ac0d0b83e8433fbb488dc5e42fef23edcf32fb4c07ef719f81392b60094\n",
            "  Stored in directory: /tmp/pip-ephem-wheel-cache-bt5rfbm5/wheels/11/95/ba/2c36cc368c0bd339b44a791c2c1881a1fb714b78c29a4cb8f5\n",
            "Successfully built en-core-web-lg\n",
            "Installing collected packages: en-core-web-lg\n",
            "Successfully installed en-core-web-lg-2.2.5\n",
            "\u001b[38;5;2m✔ Download and installation successful\u001b[0m\n",
            "You can now load the model via spacy.load('en_core_web_lg')\n"
          ]
        }
      ],
      "source": [
        "!python -m spacy download en_core_web_lg"
      ]
    },
    {
      "cell_type": "code",
      "execution_count": null,
      "metadata": {
        "id": "vLGviUHw2u5v"
      },
      "outputs": [],
      "source": [
        "import spacy\n",
        "from spacy import load\n",
        "\n",
        "nlp = load(\"en_core_web_sm\")\n",
        "s3 = input(\"enter string\")\n",
        "doc = nlp(s3)\n",
        "\n",
        "fs = [i for i in doc if i.text in ['.','?','!',';'] and i.dep_ == 'punct']\n",
        "\n",
        "fs"
      ]
    },
    {
      "cell_type": "markdown",
      "metadata": {
        "id": "yeEKTJhczKPK"
      },
      "source": [
        "###Expand contractions  "
      ]
    },
    {
      "cell_type": "code",
      "execution_count": null,
      "metadata": {
        "colab": {
          "background_save": true,
          "base_uri": "https://localhost:8080/"
        },
        "id": "ZqRMj4ML-vhk",
        "outputId": "b3fc8617-27ce-4768-c421-a74aca012cc4"
      },
      "outputs": [
        {
          "name": "stdout",
          "output_type": "stream",
          "text": [
            "you can not see that i can not see?\n"
          ]
        }
      ],
      "source": [
        "import re\n",
        "\n",
        "def decontracted(phrase):\n",
        "    # specific\n",
        "    phrase = re.sub(r\"won\\'t\", \"will not\", phrase)\n",
        "    phrase = re.sub(r\"can\\'t\", \"can not\", phrase)\n",
        "    phrase = re.sub(r\"shan\\'t\", \"shall not\", phrase)\n",
        "\n",
        "    # general\n",
        "    phrase = re.sub(r\"n\\'t\", \" not\", phrase)\n",
        "    phrase = re.sub(r\"\\'re\", \" are\", phrase)\n",
        "    phrase = re.sub(r\"\\'s\", \" is\", phrase)\n",
        "    phrase = re.sub(r\"\\'d\", \" would\", phrase)\n",
        "    phrase = re.sub(r\"\\'ll\", \" will\", phrase)\n",
        "    phrase = re.sub(r\"\\'t\", \" not\", phrase)\n",
        "    phrase = re.sub(r\"\\'ve\", \" have\", phrase)\n",
        "    phrase = re.sub(r\"\\'m\", \" am\", phrase)\n",
        "    phrase = re.sub(r\"\\ y'\", \" you \", phrase)\n",
        "    return phrase\n",
        "\n",
        "\n",
        "test = input()\n",
        "#test = \"Hey I'm Sparsh, how're you and how's it going ? That's interesting: I'd love to hear more about it. How are y'all\"\n",
        "print(decontracted(test))"
      ]
    },
    {
      "cell_type": "markdown",
      "metadata": {
        "id": "ld8o504x1pZj"
      },
      "source": [
        "###Remove special characters"
      ]
    },
    {
      "cell_type": "code",
      "execution_count": null,
      "metadata": {
        "colab": {
          "base_uri": "https://localhost:8080/"
        },
        "id": "-01OnS4a8kDr",
        "outputId": "3d33837a-6765-48b9-9515-5a171bacb573"
      },
      "outputs": [
        {
          "name": "stdout",
          "output_type": "stream",
          "text": [
            "Enter sentence: Hi! . * &!\n",
            "Sentence with Special characters:  Hi\n"
          ]
        }
      ],
      "source": [
        "text = input(\"Enter sentence: \")\n",
        "text = re.sub('''[^a-zA-Z0-9]''', '', text)\n",
        "print(\"Sentence with Special characters: \",text)"
      ]
    },
    {
      "cell_type": "markdown",
      "metadata": {
        "id": "DVhKlHMO1xgZ"
      },
      "source": [
        "###Lowercase all texts"
      ]
    },
    {
      "cell_type": "code",
      "execution_count": null,
      "metadata": {
        "colab": {
          "base_uri": "https://localhost:8080/"
        },
        "id": "PmQ2J3SC7esR",
        "outputId": "cccf5183-9f1a-4fed-fb24-1f012038da1e"
      },
      "outputs": [
        {
          "name": "stdout",
          "output_type": "stream",
          "text": [
            "I have some good news Alexa\n",
            "Lowercase sentence is:  i have some good news alexa\n"
          ]
        }
      ],
      "source": [
        "import re\n",
        "\n",
        "text = input()\n",
        "doc = nlp(text)\n",
        "sent = []\n",
        "for token in doc:\n",
        "  #print(token.text)\n",
        "  sent.append(token.text.lower())\n",
        "print(\"Lowercase sentence is: \",\" \".join(sent))"
      ]
    },
    {
      "cell_type": "markdown",
      "metadata": {
        "id": "hE0UkGKI10-u"
      },
      "source": [
        "###Convert number words to numeric form "
      ]
    },
    {
      "cell_type": "code",
      "execution_count": null,
      "metadata": {
        "colab": {
          "base_uri": "https://localhost:8080/"
        },
        "id": "xjgZXaFf13ch",
        "outputId": "d78337e3-3102-453f-bc87-de585a2be2c7"
      },
      "outputs": [
        {
          "name": "stdout",
          "output_type": "stream",
          "text": [
            "i am 6 feet tall\n",
            "i am six feet tall\n"
          ]
        }
      ],
      "source": [
        "s6 = input()\n",
        "def replace_num(text):\n",
        "  'Number replacement'\n",
        "  text = re.sub('0',' zero',text)\n",
        "  text = re.sub('1',' one',text)\n",
        "  text = re.sub('2',' two',text)\n",
        "  text = re.sub('3',' three',text)\n",
        "  text = re.sub('4',' four',text)\n",
        "  text = re.sub('5',' five',text)\n",
        "  text = re.sub('6',' six',text)\n",
        "  text = re.sub('7',' seven',text)\n",
        "  text = re.sub('8',' eight',text)\n",
        "  text = re.sub('9',' nine',text)\n",
        "  return text\n",
        "\n",
        "print(whitespace(replace_num(s6)))"
      ]
    },
    {
      "cell_type": "markdown",
      "metadata": {
        "id": "V1KEtYic136V"
      },
      "source": [
        "###Remove numbers "
      ]
    },
    {
      "cell_type": "code",
      "execution_count": null,
      "metadata": {
        "colab": {
          "base_uri": "https://localhost:8080/"
        },
        "id": "01VDMGkk17Mc",
        "outputId": "68c7d983-f258-4e70-e3ce-2c70530540b6"
      },
      "outputs": [
        {
          "name": "stdout",
          "output_type": "stream",
          "text": [
            "Enter Html line: i have 2 cars\n",
            "i have cars\n"
          ]
        }
      ],
      "source": [
        "import re\n",
        "s7 = input(\"Enter Html line: \")\n",
        "rem_nums = re.sub(\"\\d+\", \"\", s7)\n",
        "\n",
        "print(whitespace(rem_nums))"
      ]
    },
    {
      "cell_type": "markdown",
      "metadata": {
        "id": "6Pf9txWs17mZ"
      },
      "source": [
        "###Remove stop words  "
      ]
    },
    {
      "cell_type": "code",
      "execution_count": null,
      "metadata": {
        "colab": {
          "base_uri": "https://localhost:8080/"
        },
        "id": "H3-68wW661Mx",
        "outputId": "5e4a66f9-a22e-423e-be84-edddd5167d5a"
      },
      "outputs": [
        {
          "name": "stdout",
          "output_type": "stream",
          "text": [
            "Tokens \n",
            "\n",
            "['He', 'determined', 'to', 'drop', 'his', 'litigation', 'with', 'the', 'monastry', ',', 'and', 'relinguish', 'his', 'claims', 'to', 'the', 'wood', '-', 'cuting', 'and', '\\n', 'fishery', 'rihgts', 'at', 'once', '.', 'He', 'was', 'the', 'more', 'ready', 'to', 'do', 'this', 'becuase', 'the', 'rights', 'had', 'become', 'much', 'less', 'valuable', ',', 'and', 'he', 'had', '\\n', 'indeed', 'the', 'vaguest', 'idea', 'where', 'the', 'wood', 'and', 'river', 'in', 'question', 'were', '.']\n",
            "\n",
            " filtered words \n",
            "\n",
            "['determined', 'drop', 'litigation', 'monastry', ',', 'relinguish', 'claims', 'wood', '-', 'cuting', '\\n', 'fishery', 'rihgts', '.', 'ready', 'becuase', 'rights', 'valuable', ',', '\\n', 'vaguest', 'idea', 'wood', 'river', 'question', '.']\n",
            "\n",
            " filtered sentence \n",
            "\n",
            "determined drop litigation monastry , relinguish claims wood - cuting \n",
            " fishery rihgts . ready becuase rights valuable , \n",
            " vaguest idea wood river question .\n"
          ]
        }
      ],
      "source": [
        "text = input()\n",
        "\n",
        "\n",
        "#text = \"\"\"He determined to drop his litigation with the monastry, and relinguish his claims to the wood-cuting and \n",
        "#fishery rihgts at once. He was the more ready to do this becuase the rights had become much less valuable, and he had \n",
        "#indeed the vaguest idea where the wood and river in question were.\"\"\"\n",
        "\n",
        "my_doc = nlp(text)\n",
        "\n",
        "token_list = []\n",
        "for token in my_doc:\n",
        "    token_list.append(token.text)\n",
        "\n",
        "from spacy.lang.en.stop_words import STOP_WORDS\n",
        "\n",
        "filtered_sentence =[] \n",
        "\n",
        "for word in token_list:\n",
        "    lexeme = nlp.vocab[word]\n",
        "    if lexeme.is_stop == False:\n",
        "        filtered_sentence.append(word) \n",
        "\n",
        "print(\"Tokens \\n\")        \n",
        "print(token_list)\n",
        "print(\"\\n filtered words \\n\")\n",
        "print(filtered_sentence)\n",
        "print(\"\\n filtered sentence \\n\")\n",
        "print(\" \".join(filtered_sentence))   "
      ]
    },
    {
      "cell_type": "markdown",
      "metadata": {
        "id": "MlXqkEN91-OS"
      },
      "source": [
        "###Phrase extraction    "
      ]
    },
    {
      "cell_type": "code",
      "execution_count": null,
      "metadata": {
        "colab": {
          "base_uri": "https://localhost:8080/"
        },
        "id": "NzNVoyZd_oZb",
        "outputId": "2309450e-cb51-4d16-dee3-2f4f74bd9537"
      },
      "outputs": [
        {
          "name": "stdout",
          "output_type": "stream",
          "text": [
            "Enter sentence with phrases: I want to see the action replay\n",
            "phrases:  ['the action replay']\n"
          ]
        }
      ],
      "source": [
        "doc = nlp(text)\n",
        "\n",
        "def filter_spans(spans):\n",
        "  \"\"\"Filter a sequence of spans so they don't contain overlaps\"\"\"\n",
        "  get_sort_key = lambda span: (span.end - span.start, -span.start)\n",
        "  sorted_spans = sorted(spans, key=get_sort_key, reverse=True)\n",
        "  result = []\n",
        "  seen_tokens = set()\n",
        "  for span in sorted_spans:\n",
        "    # Check for end - 1 here because boundaries are inclusive\n",
        "    if span.start not in seen_tokens and span.end - 1 not in seen_tokens:\n",
        "      result.append(span)\n",
        "      seen_tokens.update(range(span.start, span.end))\n",
        "    result = sorted(result, key=lambda span: span.start)\n",
        "    return result\n",
        "\n",
        "def token_chunker(doc):\n",
        "  \"\"\"Merge entities and noun chunks into one token\"\"\" \n",
        "\n",
        "  spans = list(doc.ents) + list(doc.noun_chunks)\n",
        "  spans = filter_spans(spans)\n",
        "  if spans != None:\n",
        "    with doc.retokenize() as retokenizer:\n",
        "      for span in spans:\n",
        "        #try:\n",
        "        retokenizer.merge(span)\n",
        "\n",
        "def phrase_printer(doc):\n",
        "  token_chunker(doc)\n",
        "  tokens = []\n",
        "  for word in doc:\n",
        "    tokens.append(word.text)\n",
        "\n",
        "  phrases = [phrase for phrase in tokens if \" \" in phrase]\n",
        "  return phrases\n",
        "\n",
        "text = input(\"Enter sentence with phrases: \")\n",
        "print(\"phrases: \", phrase_printer(doc))"
      ]
    },
    {
      "cell_type": "markdown",
      "metadata": {
        "id": "105eTJk92A5Y"
      },
      "source": [
        "###Tokenization "
      ]
    },
    {
      "cell_type": "code",
      "execution_count": null,
      "metadata": {
        "colab": {
          "base_uri": "https://localhost:8080/"
        },
        "id": "2k3YfpLRBkvt",
        "outputId": "35c7f1b5-ecc5-4ce1-fc55-487245c0289f"
      },
      "outputs": [
        {
          "name": "stdout",
          "output_type": "stream",
          "text": [
            "enter inputI wanted to play games\n",
            "(['I', 'wanted', 'to', 'play', 'games'], ['-PRON-', 'want', 'to', 'play', 'game'])\n"
          ]
        }
      ],
      "source": [
        "text = input(\"enter input\")\n",
        "doc = nlp(text)\n",
        "\n",
        "def tokenizer(doc):\n",
        "  tokens1 = []\n",
        "  tokens2 = []\n",
        "  for word in doc:\n",
        "    tokens1.append(word.text)\n",
        "    tokens2.append(word.lemma_)\n",
        "  return tokens1, tokens2\n",
        "\n",
        "\n",
        "print(tokenizer(doc))"
      ]
    },
    {
      "cell_type": "code",
      "execution_count": null,
      "metadata": {
        "id": "48Wpz4dPGU93"
      },
      "outputs": [],
      "source": [
        ""
      ]
    }
  ],
  "metadata": {
    "colab": {
      "name": "NLP Experiments.ipynb",
      "provenance": [],
      "authorship_tag": "ABX9TyN+1S+q7dCsb3Ufe4Kp5dNz",
      "include_colab_link": true
    },
    "kernelspec": {
      "display_name": "Python 3",
      "name": "python3"
    },
    "language_info": {
      "name": "python"
    }
  },
  "nbformat": 4,
  "nbformat_minor": 0
}